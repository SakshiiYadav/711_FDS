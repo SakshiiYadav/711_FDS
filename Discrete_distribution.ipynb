{
  "nbformat": 4,
  "nbformat_minor": 0,
  "metadata": {
    "colab": {
      "provenance": []
    },
    "kernelspec": {
      "name": "python3",
      "display_name": "Python 3"
    },
    "language_info": {
      "name": "python"
    }
  },
  "cells": [
    {
      "cell_type": "code",
      "execution_count": null,
      "metadata": {
        "id": "nQWMC3a9Mz9a"
      },
      "outputs": [],
      "source": [
        "from numpy import random as r\n",
        "import numpy as np\n",
        "from IPython.display  import Math,Latex\n",
        "from IPython.core.display import Image\n",
        "import matplotlib.pyplot as plt\n",
        "import seaborn as sns"
      ]
    },
    {
      "cell_type": "code",
      "source": [
        "sns.set(color_codes = True)\n",
        "sns.set(rc = {\"figure.figsize\":(5,5)})"
      ],
      "metadata": {
        "id": "97D_eEhvRtdY"
      },
      "execution_count": null,
      "outputs": []
    },
    {
      "cell_type": "markdown",
      "source": [
        "## Uniform distribution"
      ],
      "metadata": {
        "id": "eBtRfhX_P8-m"
      }
    },
    {
      "cell_type": "code",
      "source": [
        "from scipy.stats import randint\n",
        "\n",
        "fig , ax = plt.subplots(1,1)\n",
        "\n",
        "\n",
        "low, high = 7,31\n",
        "\n",
        "mean , var , skew, kurt  = randint.stats(low,high,moments= \"mvsk\")\n",
        "\n",
        "x = np.arange(randint.ppf(0.01,low,high),\n",
        "                randint.ppf(0.99,low,high))\n",
        "print(x)\n",
        "\n",
        "ax.plot(x, randint.pmf(x,low,high), \"bo\",ms = 8,label=\"randint pmf\")\n",
        "ax.vlines(x,0, randint.pmf(x,low,high),color= \"b\",lw = 5,alpha = 0.5)\n",
        "\n",
        "rv = randint(low,high)\n",
        "ax.vlines(x,0,rv.pmf(x),color = \"k\",linestyle=\"-\",lw = 1,label=\"frozen pmf\")\n",
        "ax.legend(loc = \"best\",frameon = False)\n",
        "plt.show()"
      ],
      "metadata": {
        "colab": {
          "base_uri": "https://localhost:8080/",
          "height": 357
        },
        "id": "LpdTrDIyRtgg",
        "outputId": "d333b26a-6874-49ef-b39b-d20fb4bb2b50"
      },
      "execution_count": null,
      "outputs": [
        {
          "output_type": "stream",
          "name": "stdout",
          "text": [
            "[ 7.  8.  9. 10. 11. 12. 13. 14. 15. 16. 17. 18. 19. 20. 21. 22. 23. 24.\n",
            " 25. 26. 27. 28. 29.]\n"
          ]
        },
        {
          "output_type": "display_data",
          "data": {
            "text/plain": [
              "<Figure size 360x360 with 1 Axes>"
            ],
            "image/png": "[encoded data removed]"
          },
          "metadata": {}
        }
      ]
    },
    {
      "cell_type": "code",
      "source": [
        "x"
      ],
      "metadata": {
        "colab": {
          "base_uri": "https://localhost:8080/"
        },
        "id": "AjQXA76DR8LW",
        "outputId": "3fed9cdc-281d-4666-eea4-c4ffe8c1b94b"
      },
      "execution_count": null,
      "outputs": [
        {
          "output_type": "execute_result",
          "data": {
            "text/plain": [
              "array([ 7.,  8.,  9., 10., 11., 12., 13., 14., 15., 16., 17., 18., 19.,\n",
              "       20., 21., 22., 23., 24., 25., 26., 27., 28., 29.])"
            ]
          },
          "metadata": {},
          "execution_count": 6
        }
      ]
    },
    {
      "cell_type": "code",
      "source": [
        "randint.ppf(0.01,low,high)"
      ],
      "metadata": {
        "colab": {
          "base_uri": "https://localhost:8080/"
        },
        "id": "g9FuvMuVR8Qc",
        "outputId": "c10284fc-001e-48cd-b3e5-08d56b6228ac"
      },
      "execution_count": null,
      "outputs": [
        {
          "output_type": "execute_result",
          "data": {
            "text/plain": [
              "7.0"
            ]
          },
          "metadata": {},
          "execution_count": 7
        }
      ]
    },
    {
      "cell_type": "code",
      "source": [
        "randint.ppf(0.99,low,high)"
      ],
      "metadata": {
        "colab": {
          "base_uri": "https://localhost:8080/"
        },
        "id": "TNpt4RjzR8Te",
        "outputId": "80cb4ea9-1170-40d8-f1d6-43ee26c7f9e8"
      },
      "execution_count": null,
      "outputs": [
        {
          "output_type": "execute_result",
          "data": {
            "text/plain": [
              "30.0"
            ]
          },
          "metadata": {},
          "execution_count": 8
        }
      ]
    },
    {
      "cell_type": "code",
      "source": [
        "uniformMatrix = r.uniform(0.2, 0.4, size=(10))\n",
        "print(uniformMatrix)"
      ],
      "metadata": {
        "colab": {
          "base_uri": "https://localhost:8080/"
        },
        "id": "Ik25XUs7M7fc",
        "outputId": "9220f453-e54a-4b8c-c116-f91b745e2256"
      },
      "execution_count": null,
      "outputs": [
        {
          "output_type": "stream",
          "name": "stdout",
          "text": [
            "[0.39514749 0.34183426 0.31258747 0.28703102 0.31844496 0.24662847\n",
            " 0.32791708 0.36773729 0.2342854  0.25366131]\n"
          ]
        }
      ]
    },
    {
      "cell_type": "code",
      "source": [
        "sns.distplot(r.uniform(size=1000), hist=False)"
      ],
      "metadata": {
        "colab": {
          "base_uri": "https://localhost:8080/",
          "height": 397
        },
        "id": "9hZnJOHwNLv8",
        "outputId": "f1472de5-1ffe-40fe-9d5d-44eac80d5673"
      },
      "execution_count": null,
      "outputs": [
        {
          "output_type": "stream",
          "name": "stderr",
          "text": [
            "/usr/local/lib/python3.7/dist-packages/seaborn/distributions.py:2619: FutureWarning: `distplot` is a deprecated function and will be removed in a future version. Please adapt your code to use either `displot` (a figure-level function with similar flexibility) or `kdeplot` (an axes-level function for kernel density plots).\n",
            "  warnings.warn(msg, FutureWarning)\n"
          ]
        },
        {
          "output_type": "execute_result",
          "data": {
            "text/plain": [
              "<matplotlib.axes._subplots.AxesSubplot at 0x7f6d55209410>"
            ]
          },
          "metadata": {},
          "execution_count": 10
        },
        {
          "output_type": "display_data",
          "data": {
            "text/plain": [
              "<Figure size 360x360 with 1 Axes>"
            ],
            "image/png": "[encoded data removed]"
          },
          "metadata": {}
        }
      ]
    },
    {
      "cell_type": "markdown",
      "source": [
        "## Bernouli Distribution"
      ],
      "metadata": {
        "id": "MZaL3hgANyaU"
      }
    },
    {
      "cell_type": "code",
      "source": [
        "from scipy.stats import bernoulli\n",
        "#generating random variables (rvs)\n",
        "data_bern = bernoulli.rvs(size=10000, p=0.6)"
      ],
      "metadata": {
        "id": "jNiYswvbN3Ij"
      },
      "execution_count": null,
      "outputs": []
    },
    {
      "cell_type": "code",
      "source": [
        "ax = sns.distplot(data_bern,\n",
        "                  kde=False,\n",
        "                  color=\"skyblue\",\n",
        "                  hist_kws={\"linewidth\":15, \"alpha\":1})\n",
        "ax.set(xlabel=\"Bernoulli Distribution\", ylabel=\"Frequency\")"
      ],
      "metadata": {
        "colab": {
          "base_uri": "https://localhost:8080/",
          "height": 411
        },
        "id": "4eCIW4xEOEb8",
        "outputId": "79b8ef23-f926-4c8a-e369-96f506586b89"
      },
      "execution_count": null,
      "outputs": [
        {
          "output_type": "stream",
          "name": "stderr",
          "text": [
            "/usr/local/lib/python3.7/dist-packages/seaborn/distributions.py:2619: FutureWarning: `distplot` is a deprecated function and will be removed in a future version. Please adapt your code to use either `displot` (a figure-level function with similar flexibility) or `histplot` (an axes-level function for histograms).\n",
            "  warnings.warn(msg, FutureWarning)\n"
          ]
        },
        {
          "output_type": "execute_result",
          "data": {
            "text/plain": [
              "[Text(0, 0.5, 'Frequency'), Text(0.5, 0, 'Bernoulli Distribution')]"
            ]
          },
          "metadata": {},
          "execution_count": 12
        },
        {
          "output_type": "display_data",
          "data": {
            "text/plain": [
              "<Figure size 360x360 with 1 Axes>"
            ],
            "image/png": "[encoded data removed]"
          },
          "metadata": {}
        }
      ]
    },
    {
      "cell_type": "markdown",
      "source": [
        "## Binomial Distribution\n",
        "P(x) = (n!/(n-x)x!)p^x * q^(n-x)"
      ],
      "metadata": {
        "id": "bDoBshavQKSe"
      }
    },
    {
      "cell_type": "code",
      "source": [
        "from scipy.stats import binom\n",
        "data_binom = binom.rvs(n=10, p=0.8, size=10000)"
      ],
      "metadata": {
        "id": "lezTyzWZNi0b"
      },
      "execution_count": null,
      "outputs": []
    },
    {
      "cell_type": "code",
      "source": [
        "ax = sns.distplot(data_binom,\n",
        "                  kde=False,\n",
        "                  color=\"skyblue\",\n",
        "                  hist_kws={\"linewidth\":15, \"alpha\":1})\n",
        "\n",
        "ax.set(xlabel=\"Binomial Distribution\", ylabel=\"Frequency\")"
      ],
      "metadata": {
        "colab": {
          "base_uri": "https://localhost:8080/",
          "height": 356
        },
        "id": "OIdt8CwVQ1yt",
        "outputId": "3f8916b7-c935-4c1c-8b8b-48d2e9337a75"
      },
      "execution_count": null,
      "outputs": [
        {
          "output_type": "execute_result",
          "data": {
            "text/plain": [
              "[Text(0, 0.5, 'Frequency'), Text(0.5, 0, 'Binomial Distribution')]"
            ]
          },
          "metadata": {},
          "execution_count": 14
        },
        {
          "output_type": "display_data",
          "data": {
            "text/plain": [
              "<Figure size 360x360 with 1 Axes>"
            ],
            "image/png": "[encoded data removed]"
          },
          "metadata": {}
        }
      ]
    },
    {
      "cell_type": "markdown",
      "source": [
        "## Poisson Distribution"
      ],
      "metadata": {
        "id": "TUwGe1rfSYjN"
      }
    },
    {
      "cell_type": "code",
      "source": [
        "from scipy.stats import poisson\n",
        "data_poisson = poisson.rvs(mu=3, size = 10000)"
      ],
      "metadata": {
        "id": "SKUHqRWDRHAt"
      },
      "execution_count": null,
      "outputs": []
    },
    {
      "cell_type": "code",
      "source": [
        "ax = sns.distplot(data_poisson,\n",
        "                  kde=False,\n",
        "                  color=\"skyblue\",\n",
        "                  hist_kws={\"linewidth\":15, \"alpha\":1})\n",
        "\n",
        "ax.set(xlabel=\"Poisson Distribution\", ylabel=\"Frequency\")"
      ],
      "metadata": {
        "colab": {
          "base_uri": "https://localhost:8080/",
          "height": 411
        },
        "id": "62lzPjRcS65E",
        "outputId": "2db9ed3e-303e-4db2-de17-890e72f30445"
      },
      "execution_count": null,
      "outputs": [
        {
          "output_type": "stream",
          "name": "stderr",
          "text": [
            "/usr/local/lib/python3.7/dist-packages/seaborn/distributions.py:2619: FutureWarning: `distplot` is a deprecated function and will be removed in a future version. Please adapt your code to use either `displot` (a figure-level function with similar flexibility) or `histplot` (an axes-level function for histograms).\n",
            "  warnings.warn(msg, FutureWarning)\n"
          ]
        },
        {
          "output_type": "execute_result",
          "data": {
            "text/plain": [
              "[Text(0, 0.5, 'Frequency'), Text(0.5, 0, 'Poisson Distribution')]"
            ]
          },
          "metadata": {},
          "execution_count": 17
        },
        {
          "output_type": "display_data",
          "data": {
            "text/plain": [
              "<Figure size 360x360 with 1 Axes>"
            ],
            "image/png": "[encoded data removed]"
          },
          "metadata": {}
        }
      ]
    },
    {
      "cell_type": "markdown",
      "source": [
        "### **Q. A warehouse typically receives 8 deliveries between 4 and 5 Friday.**\n",
        "1. What is the probability that only 4 deliveries will arrive between 4 & 5pm on friday.\n"
      ],
      "metadata": {
        "id": "G4S1RIPvT9GH"
      }
    },
    {
      "cell_type": "code",
      "source": [
        "poisson.pmf(4,8)"
      ],
      "metadata": {
        "colab": {
          "base_uri": "https://localhost:8080/"
        },
        "id": "z3p19HWGTPg_",
        "outputId": "d2efc200-c42b-4c2a-93aa-c088b324e467"
      },
      "execution_count": null,
      "outputs": [
        {
          "output_type": "execute_result",
          "data": {
            "text/plain": [
              "0.057252288495362"
            ]
          },
          "metadata": {},
          "execution_count": 18
        }
      ]
    },
    {
      "cell_type": "markdown",
      "source": [
        "2. What is the probability of having less than 3 deliveries on friday"
      ],
      "metadata": {
        "id": "BQcx-17JVwEG"
      }
    },
    {
      "cell_type": "code",
      "source": [
        "poisson.cdf(3,8)"
      ],
      "metadata": {
        "colab": {
          "base_uri": "https://localhost:8080/"
        },
        "id": "2eLGANG3VKC8",
        "outputId": "263031ed-881b-4a7d-d90f-4d093475d86d"
      },
      "execution_count": null,
      "outputs": [
        {
          "output_type": "execute_result",
          "data": {
            "text/plain": [
              "0.04238011199168396"
            ]
          },
          "metadata": {},
          "execution_count": 19
        }
      ]
    },
    {
      "cell_type": "markdown",
      "source": [
        "3. What is the probability of having no delivery on friday between 4and 5 pm"
      ],
      "metadata": {
        "id": "-ZAAYLoVVrNt"
      }
    },
    {
      "cell_type": "code",
      "source": [
        "poisson.pmf(0,8)"
      ],
      "metadata": {
        "colab": {
          "base_uri": "https://localhost:8080/"
        },
        "id": "tX5RKP0IVOv9",
        "outputId": "71d5f1d9-3d03-4d2e-b480-3fdd61fd3068"
      },
      "execution_count": null,
      "outputs": [
        {
          "output_type": "execute_result",
          "data": {
            "text/plain": [
              "0.00033546262790251185"
            ]
          },
          "metadata": {},
          "execution_count": 20
        }
      ]
    },
    {
      "cell_type": "code",
      "source": [],
      "metadata": {
        "id": "8SeZRT9aVlDk"
      },
      "execution_count": null,
      "outputs": []
    }
  ]
}